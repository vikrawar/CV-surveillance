{
 "cells": [
  {
   "cell_type": "code",
   "execution_count": null,
   "id": "911e6008-47a3-4f11-b239-adcc93e5114a",
   "metadata": {},
   "outputs": [],
   "source": [
    "import torch\n",
    "import cv2\n",
    "import pandas as pd\n",
    "import numpy as np\n",
    "\n",
    "from twilio.rest import Client"
   ]
  },
  {
   "cell_type": "code",
   "execution_count": null,
   "id": "788a410c-34c9-4ec3-b9f8-2d3886748e2c",
   "metadata": {},
   "outputs": [],
   "source": [
    "model = torch.hub.load('ultralytics/yolov5', 'yolov5s', pretrained=True)"
   ]
  },
  {
   "cell_type": "code",
   "execution_count": null,
   "id": "9a6f41ff-738c-4ad4-9007-ccd9f3de24ce",
   "metadata": {},
   "outputs": [],
   "source": [
    "video_path = 'IMG_3492.mov'\n",
    "output_path = 'output.mp4'"
   ]
  },
  {
   "cell_type": "code",
   "execution_count": null,
   "id": "843205be-1186-4377-893a-3ce2182a9505",
   "metadata": {},
   "outputs": [],
   "source": [
    "def alert():\n",
    "\n",
    "    account_sid = 'your_account_sid'\n",
    "    auth_token = 'your_auth_token'\n",
    "    twilio_number = 'whatsapp:twilio_number'\n",
    "    recipient_number = 'whatsapp:recipient_number'\n",
    "    \n",
    "    client = Client(account_sid, auth_token)\n",
    "    \n",
    "    client.messages.create(body='Alert: Get your Kid!', \n",
    "                          from_=twilio_number, \n",
    "                          to=recipient_number)"
   ]
  },
  {
   "cell_type": "code",
   "execution_count": null,
   "id": "74202bd4-0611-4136-bc62-c0821338c243",
   "metadata": {},
   "outputs": [],
   "source": [
    "def process_video(video_path, output_path=\"output_video.mp4\", alert_threshold=1):\n",
    "    # Open the video file\n",
    "    cap = cv2.VideoCapture(video_path)\n",
    "    width = int(cap.get(cv2.CAP_PROP_FRAME_WIDTH))\n",
    "    height = int(cap.get(cv2.CAP_PROP_FRAME_HEIGHT))\n",
    "    fps = int(cap.get(cv2.CAP_PROP_FPS))\n",
    "    \n",
    "    # Define the video writer for output video\n",
    "    out = cv2.VideoWriter(output_path, cv2.VideoWriter_fourcc(*'mp4v'), fps, (width, height))\n",
    "\n",
    "    while cap.isOpened():\n",
    "        ret, frame = cap.read()\n",
    "        if not ret:\n",
    "            break\n",
    "        \n",
    "        # Run YOLO detection on the current frame\n",
    "        results = model(frame)\n",
    "        detections = results.pandas().xyxy[0]  # YOLO results as a DataFrame\n",
    "\n",
    "        # Count detected persons\n",
    "        children_count = 0\n",
    "        for _, row in detections.iterrows():\n",
    "            if row['name'] == 'person':\n",
    "                children_count += 1\n",
    "\n",
    "        # Draw bounding boxes and labels on the frame\n",
    "        for _, row in detections.iterrows():\n",
    "            if row['name'] == 'person':\n",
    "                color = (0, 255, 0)  # Color for detected persons\n",
    "                cv2.rectangle(frame, (int(row['xmin']), int(row['ymin'])), (int(row['xmax']), int(row['ymax'])), color, 2)\n",
    "                cv2.putText(frame, f\"{row['name']}\", (int(row['xmin']), int(row['ymin']) - 10),\n",
    "                            cv2.FONT_HERSHEY_SIMPLEX, 0.6, color, 2)\n",
    "        \n",
    "        # Display the children count and trigger alert if below threshold\n",
    "        cv2.putText(frame, f\"Children count: {children_count}\", (10, 30), \n",
    "                    cv2.FONT_HERSHEY_SIMPLEX, 1, (0, 0, 255), 2)\n",
    "        \n",
    "        if children_count < alert_threshold:\n",
    "            cv2.putText(frame, \"ALERT: Low children count!\", (10, 70), \n",
    "                        cv2.FONT_HERSHEY_SIMPLEX, 1, (0, 0, 255), 2)\n",
    "            alert()  # Call the alert function\n",
    "            print(\"Alert! Only one or two children remain in the frame.\")\n",
    "            break\n",
    "        \n",
    "        # Write frame to output video\n",
    "        out.write(frame)\n",
    "\n",
    "        # Display the frame (optional)\n",
    "        cv2.imshow(\"Surveillance\", frame)\n",
    "        if cv2.waitKey(1) & 0xFF == ord('q'):\n",
    "            break\n",
    "\n",
    "    # Release video objects and close OpenCV windows\n",
    "    cap.release()\n",
    "    out.release()\n",
    "    cv2.destroyAllWindows()"
   ]
  },
  {
   "cell_type": "code",
   "execution_count": null,
   "id": "4b56d729-222e-4cdb-acdb-c3665102b23a",
   "metadata": {},
   "outputs": [],
   "source": [
    "process_video(video_path, output_path)"
   ]
  },
  {
   "cell_type": "code",
   "execution_count": null,
   "id": "95e4ca4d-ad2a-48d4-9d56-21e6e8721485",
   "metadata": {},
   "outputs": [],
   "source": []
  }
 ],
 "metadata": {
  "kernelspec": {
   "display_name": "Python 3 (ipykernel)",
   "language": "python",
   "name": "python3"
  },
  "language_info": {
   "codemirror_mode": {
    "name": "ipython",
    "version": 3
   },
   "file_extension": ".py",
   "mimetype": "text/x-python",
   "name": "python",
   "nbconvert_exporter": "python",
   "pygments_lexer": "ipython3",
   "version": "3.10.14"
  }
 },
 "nbformat": 4,
 "nbformat_minor": 5
}
